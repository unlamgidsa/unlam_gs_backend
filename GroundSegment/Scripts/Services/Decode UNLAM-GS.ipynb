{
 "cells": [
  {
   "cell_type": "code",
   "execution_count": null,
   "id": "deadly-cable",
   "metadata": {},
   "outputs": [],
   "source": []
  },
  {
   "cell_type": "code",
   "execution_count": 4,
   "id": "chubby-packing",
   "metadata": {},
   "outputs": [],
   "source": [
    "from datetime import datetime, timedelta\n",
    "import binascii\n",
    "from struct import unpack"
   ]
  },
  {
   "cell_type": "code",
   "execution_count": 5,
   "id": "aging-jesus",
   "metadata": {},
   "outputs": [],
   "source": [
    "dbpkt = \"86A2404040406098AA6E828200E103F0FFFFF0000100000491000004910008B7840828CD9801010000699802010000000027030100002D5B035C0003034401F80368009F04010CFB027A0501000000002AB71E82249C007DFBEFFF33FFAC0081FFDDFFDC00000C0000163300FFFD1F0000000000000000000601B81E04F8001601\""
   ]
  },
  {
   "cell_type": "code",
   "execution_count": 6,
   "id": "formed-impossible",
   "metadata": {},
   "outputs": [],
   "source": [
    "dbpkt = \"86A2404040406098AA6E828200E103F0FFFFF0000100000392000003920008B7840828CD9801010000699802010000000027030100002DCC03650003034501F80367009E04010CA4026D05010000000022E828BA22E80120FD580257FFA6007AFFE5FFD9FFFE2100001912000000D60000000000000000000601B81E04F8001601\""
   ]
  },
  {
   "cell_type": "code",
   "execution_count": 7,
   "id": "extraordinary-stephen",
   "metadata": {},
   "outputs": [],
   "source": [
    "mypkt = \"86A2404040406098AA6E828200E103F0FFFFF000010000422600004226000884040828CD98010100006A480201000000002703010000302F039A0004034601B40368009C0401098400410501000000003B5AFC6BE85500C300EAFFDB00210055FFC4FFA3FFFC99000031F900000222000000000000000000060102560184000600\""
   ]
  },
  {
   "cell_type": "code",
   "execution_count": 8,
   "id": "least-shakespeare",
   "metadata": {},
   "outputs": [],
   "source": [
    "indexDB = dbpkt.find('FFFFF00001')\n",
    "fDbPayload = dbpkt[indexDB:-1]"
   ]
  },
  {
   "cell_type": "code",
   "execution_count": 9,
   "id": "eastern-envelope",
   "metadata": {},
   "outputs": [],
   "source": [
    "indexMy = mypkt.find('FFFFF00001')\n",
    "myPayload = mypkt[indexMy:-1]"
   ]
  },
  {
   "cell_type": "code",
   "execution_count": 10,
   "id": "external-cursor",
   "metadata": {},
   "outputs": [],
   "source": [
    "if len(myPayload)%2!=0:\n",
    "    myPayload = myPayload[0:-2]\n",
    "    \n",
    "if len(fDbPayload)%2!=0:\n",
    "    fDbPayload = fDbPayload[0:-2]"
   ]
  },
  {
   "cell_type": "code",
   "execution_count": 11,
   "id": "pleased-disposal",
   "metadata": {},
   "outputs": [
    {
     "name": "stdout",
     "output_type": "stream",
     "text": [
      "1970-01-01 00:15:14\n"
     ]
    }
   ],
   "source": [
    "raw = binascii.unhexlify(fDbPayload[(9*2):(9*2)+(4*2)])\n",
    "idt = unpack('>I', raw)[0]\n",
    "basedate = datetime(1970,1,1)\n",
    "delta = timedelta(seconds=idt)\n",
    "pktdt = basedate+delta\n",
    "print(pktdt)"
   ]
  },
  {
   "cell_type": "code",
   "execution_count": 12,
   "id": "behind-corrections",
   "metadata": {},
   "outputs": [
    {
     "name": "stdout",
     "output_type": "stream",
     "text": [
      "1970-01-01 04:42:14\n"
     ]
    }
   ],
   "source": [
    "raw = binascii.unhexlify(myPayload[(9*2):(9*2)+(4*2)])\n",
    "idt = unpack('>I', raw)[0]\n",
    "basedate = datetime(1970,1,1)\n",
    "delta = timedelta(seconds=idt)\n",
    "pktdt = basedate+delta\n",
    "print(pktdt)"
   ]
  },
  {
   "cell_type": "code",
   "execution_count": 13,
   "id": "respiratory-haven",
   "metadata": {},
   "outputs": [
    {
     "data": {
      "text/plain": [
       "3.3419440000000002"
      ]
     },
     "execution_count": 13,
     "metadata": {},
     "output_type": "execute_result"
    }
   ],
   "source": [
    "pkt = \"86A2404040406098AA6E828200E103F0FFFFF000010000422600004226000884040828CD98010100006A480201000000002703010000302F039A0004034601B40368009C0401098400410501000000003B5AFC6BE85500C300EAFFDB00210055FFC4FFA3FFFC99000031F900000222000000000000000000060102560184000600\"\n",
    "#3.3v, posicion 60\n",
    "#index = pkt.find('FFFFF00001')\n",
    "payload = pkt\n",
    "\n",
    "if len(payload)%2!=0:\n",
    "    payload = payload[0:-2]\n",
    "\n",
    "\n",
    "bindata = binascii.unhexlify(payload)\n",
    "rawval = unpack(\">H\", bindata[60:62])[0]\n",
    "rawval*0.003988\n"
   ]
  },
  {
   "cell_type": "code",
   "execution_count": 14,
   "id": "about-health",
   "metadata": {},
   "outputs": [
    {
     "data": {
      "text/plain": [
       "3.337956"
      ]
     },
     "execution_count": 14,
     "metadata": {},
     "output_type": "execute_result"
    }
   ],
   "source": [
    "pkt = \"86A2404040406098AA6E828200E103F0FFFFF0000100000392000003920008B7840828CD9801010000699802010000000027030100002DCC03650003034501F80367009E04010CA4026D05010000000022E828BA22E80120FD580257FFA6007AFFE5FFD9FFFE2100001912000000D60000000000000000000601B81E04F8001601\"\n",
    "#3.3v, posicion 60\n",
    "#index = pkt.find('FFFFF00001')\n",
    "#payload = pkt[index:]\n",
    "payload = pkt\n",
    "if len(payload)%2!=0:\n",
    "    payload = payload[0:-2]\n",
    "\n",
    "\n",
    "bindata = binascii.unhexlify(payload)\n",
    "rawval = unpack(\">H\", bindata[60:62])[0]\n",
    "rawval*0.003988\n"
   ]
  },
  {
   "cell_type": "code",
   "execution_count": 15,
   "id": "muslim-burst",
   "metadata": {},
   "outputs": [],
   "source": [
    "#Datetime??\n",
    "pkt = \"86A2404040406098AA6E828200E103F0FFFFF0000100000392000003920008B7840828CD9801010000699802010000000027030100002DCC03650003034501F80367009E04010CA4026D05010000000022E828BA22E80120FD580257FFA6007AFFE5FFD9FFFE2100001912000000D60000000000000000000601B81E04F8001601\"\n",
    "#pkt = \"86A2404040406098AA6E828200E103F0FFFFF000010000422600004226000884040828CD98010100006A480201000000002703010000302F039A0004034601B40368009C0401098400410501000000003B5AFC6BE85500C300EAFFDB00210055FFC4FFA3FFFC99000031F900000222000000000000000000060102560184000600\"\n",
    "#pkt = \"86A2404040406098AA6E828200E103F0FFFFF0000100005BA300005BA30008B7840828CD98010100006878020100000000270301000330B10398000303440233036900680401118F00840501000000002A3DFAF42FD000B3FDCA023CFFBF0059FFC2FFF90003CC0000098E00FFF91F0000000000000000000601B8450514000901\"\n",
    "\n",
    "#copy and paste de satnogs\n",
    "pkt = \"86A2404040406098AA6E828200E103F0FFFFF000010000448D0000448D0008CC040828CD98010100006A4802010000000027030100002D2603620004034501B20367009C04010CB5034B0501000000001D471D4730CCFAEDFEA0001C001F005FFFC5FFDBFFFCE70000341C0000023D000000000000000000060102560184000600\"\n",
    "\n",
    "#3.3v, posicion 60\n",
    "index = pkt.find('FFFFF00001')\n",
    "payload = pkt[index:]\n",
    "#payload = pkt\n"
   ]
  },
  {
   "cell_type": "code",
   "execution_count": 16,
   "id": "artificial-patient",
   "metadata": {},
   "outputs": [],
   "source": [
    "#payload = pkt\n",
    "#if len(payload)%2!=0:\n",
    "#    payload = payload[0:-2]\n",
    "bindata = binascii.unhexlify(payload)\n"
   ]
  },
  {
   "cell_type": "code",
   "execution_count": 17,
   "id": "damaged-match",
   "metadata": {},
   "outputs": [
    {
     "name": "stdout",
     "output_type": "stream",
     "text": [
      "2106-02-07 05:20:00 4294963200\n",
      "2106-01-26 03:12:01 4293918721\n",
      "2097-08-05 09:08:16 4026532096\n",
      "1970-01-01 18:12:16 65536\n",
      "1970-07-14 04:21:24 16777284\n",
      "1970-01-01 04:52:29 17549\n",
      "1970-02-21 23:55:44 4492544\n",
      "2006-06-12 05:47:44 1150091264\n",
      "2044-12-17 11:38:44 2365587524\n",
      "1970-01-01 04:52:29 17549\n",
      "1970-02-21 23:55:44 4492544\n",
      "2006-06-12 05:47:52 1150091272\n",
      "2044-12-17 12:15:08 2365589708\n",
      "1970-01-07 16:08:36 576516\n",
      "1974-09-05 04:41:44 147588104\n",
      "2078-06-18 22:18:16 3422816296\n",
      "1972-02-22 21:53:17 67643597\n",
      "1974-05-04 09:30:00 136891800\n",
      "1991-09-11 04:13:53 684562433\n",
      "2079-04-21 08:23:29 3449291009\n",
      "2050-10-24 05:37:04 2550202624\n",
      "1970-07-14 22:32:32 16842752\n",
      "1970-07-14 04:22:02 16777322\n",
      "1970-01-01 07:33:28 27208\n",
      "1970-03-22 14:47:30 6965250\n",
      "2026-07-03 18:40:01 1783104001\n",
      "2008-04-13 12:48:00 1208090880\n",
      "1971-01-25 02:52:48 33619968\n",
      "1970-07-14 04:20:16 16777216\n",
      "1970-01-01 00:00:00 0\n",
      "1970-01-01 00:00:39 39\n",
      "1970-01-01 02:46:27 9987\n",
      "1970-01-30 14:11:13 2556673\n",
      "1990-09-28 07:51:28 654508288\n",
      "1971-08-07 07:13:04 50397184\n",
      "1970-07-14 04:21:01 16777261\n",
      "1970-01-01 03:12:38 11558\n",
      "1970-02-04 05:54:11 2958851\n",
      "1994-01-01 23:12:34 757465954\n",
      "1990-03-18 10:25:04 637755904\n",
      "1971-10-19 21:03:00 56754180\n",
      "2022-02-06 17:23:15 1644168195\n",
      "1970-01-04 01:03:01 262981\n",
      "1972-02-19 04:52:17 67323137\n",
      "1971-09-27 21:14:26 54854066\n",
      "2006-09-08 18:10:11 1157739011\n",
      "1970-11-26 04:58:15 28443495\n",
      "2064-08-21 18:03:44 2986567424\n",
      "1971-10-23 16:06:52 57082012\n",
      "2024-10-05 01:53:08 1728093188\n",
      "1970-04-29 08:10:41 10224641\n",
      "2052-12-11 05:35:08 2617508108\n",
      "1972-02-17 12:27:33 67177653\n",
      "1970-07-23 19:39:47 17609987\n",
      "1976-10-03 11:17:31 213189451\n",
      "2066-03-27 05:05:09 3036891909\n",
      "1971-10-02 10:42:09 55248129\n",
      "2009-11-19 08:25:36 1258619136\n",
      "1972-08-29 15:53:36 83951616\n",
      "1970-07-14 04:20:16 16777216\n",
      "1970-01-01 00:00:00 0\n",
      "1970-01-01 00:00:29 29\n",
      "1970-01-01 02:04:55 7495\n",
      "1970-01-23 04:59:09 1918749\n",
      "1985-07-26 04:23:35 491199815\n",
      "2007-10-23 00:58:24 1193101104\n",
      "1985-07-26 05:46:52 491204812\n",
      "2007-11-06 20:22:18 1194380538\n",
      "1995-12-12 03:45:49 818739949\n",
      "2078-12-23 04:56:30 3438996990\n",
      "2103-05-29 17:00:16 4209901216\n",
      "2096-07-11 23:21:36 3992887296\n",
      "2105-05-16 06:30:52 4271898652\n",
      "2055-01-24 00:02:08 2684361728\n",
      "1970-01-22 05:43:59 1835039\n",
      "1984-11-20 03:39:44 469769984\n",
      "1970-01-24 12:21:51 2031711\n",
      "1986-06-25 21:17:51 520118271\n",
      "1970-03-14 19:36:37 6291397\n",
      "2021-01-14 04:18:07 1610597887\n",
      "2105-12-25 06:36:11 4291166171\n",
      "2075-04-07 16:19:11 3321879551\n",
      "2106-01-10 23:06:36 4292607996\n",
      "2086-12-17 18:05:27 3690986727\n",
      "2106-02-04 22:04:48 4294764288\n",
      "2104-06-15 18:20:48 4242997248\n",
      "2092-10-22 18:02:28 3875536948\n",
      "1970-01-01 03:42:20 13340\n",
      "1970-02-09 12:37:20 3415040\n",
      "1997-09-14 15:17:20 874250240\n"
     ]
    }
   ],
   "source": [
    "pos = 9\n",
    "for pos in range(90):\n",
    "    raw = bindata[pos:pos+4]\n",
    "    raw = unpack('>I', raw)[0]\n",
    "    basedate = datetime(1970,1,1)\n",
    "    delta = timedelta(seconds=raw)\n",
    "    pktdt = basedate+delta\n",
    "    print(pktdt, raw)"
   ]
  },
  {
   "cell_type": "code",
   "execution_count": null,
   "id": "pharmaceutical-surrey",
   "metadata": {},
   "outputs": [],
   "source": []
  }
 ],
 "metadata": {
  "kernelspec": {
   "display_name": "Python 3",
   "language": "python",
   "name": "python3"
  },
  "language_info": {
   "codemirror_mode": {
    "name": "ipython",
    "version": 3
   },
   "file_extension": ".py",
   "mimetype": "text/x-python",
   "name": "python",
   "nbconvert_exporter": "python",
   "pygments_lexer": "ipython3",
   "version": "3.8.5"
  }
 },
 "nbformat": 4,
 "nbformat_minor": 5
}

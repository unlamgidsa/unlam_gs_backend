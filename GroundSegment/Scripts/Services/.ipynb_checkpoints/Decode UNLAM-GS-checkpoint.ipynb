{
 "cells": [
  {
   "cell_type": "code",
   "execution_count": null,
   "id": "deadly-cable",
   "metadata": {},
   "outputs": [],
   "source": []
  },
  {
   "cell_type": "code",
   "execution_count": 73,
   "id": "chubby-packing",
   "metadata": {},
   "outputs": [],
   "source": [
    "from datetime import datetime, timedelta\n",
    "import binascii\n",
    "from struct import unpack"
   ]
  },
  {
   "cell_type": "code",
   "execution_count": 74,
   "id": "aging-jesus",
   "metadata": {},
   "outputs": [],
   "source": [
    "dbpkt = \"86A2404040406098AA6E828200E103F0FFFFF0000100000491000004910008B7840828CD9801010000699802010000000027030100002D5B035C0003034401F80368009F04010CFB027A0501000000002AB71E82249C007DFBEFFF33FFAC0081FFDDFFDC00000C0000163300FFFD1F0000000000000000000601B81E04F8001601\""
   ]
  },
  {
   "cell_type": "code",
   "execution_count": 75,
   "id": "formed-impossible",
   "metadata": {},
   "outputs": [],
   "source": [
    "dbpkt = \"86A2404040406098AA6E828200E103F0FFFFF0000100000392000003920008B7840828CD9801010000699802010000000027030100002DCC03650003034501F80367009E04010CA4026D05010000000022E828BA22E80120FD580257FFA6007AFFE5FFD9FFFE2100001912000000D60000000000000000000601B81E04F8001601\""
   ]
  },
  {
   "cell_type": "code",
   "execution_count": 76,
   "id": "extraordinary-stephen",
   "metadata": {},
   "outputs": [],
   "source": [
    "mypkt = \"86A2404040406098AA6E828200E103F0FFFFF000010000422600004226000884040828CD98010100006A480201000000002703010000302F039A0004034601B40368009C0401098400410501000000003B5AFC6BE85500C300EAFFDB00210055FFC4FFA3FFFC99000031F900000222000000000000000000060102560184000600\""
   ]
  },
  {
   "cell_type": "code",
   "execution_count": 77,
   "id": "least-shakespeare",
   "metadata": {},
   "outputs": [],
   "source": [
    "indexDB = dbpkt.find('FFFFF00001')\n",
    "fDbPayload = dbpkt[indexDB:-1]"
   ]
  },
  {
   "cell_type": "code",
   "execution_count": 78,
   "id": "eastern-envelope",
   "metadata": {},
   "outputs": [],
   "source": [
    "indexMy = mypkt.find('FFFFF00001')\n",
    "myPayload = mypkt[indexMy:-1]"
   ]
  },
  {
   "cell_type": "code",
   "execution_count": 79,
   "id": "external-cursor",
   "metadata": {},
   "outputs": [],
   "source": [
    "if len(myPayload)%2!=0:\n",
    "    myPayload = myPayload[0:-2]\n",
    "    \n",
    "if len(fDbPayload)%2!=0:\n",
    "    fDbPayload = fDbPayload[0:-2]"
   ]
  },
  {
   "cell_type": "code",
   "execution_count": 80,
   "id": "pleased-disposal",
   "metadata": {},
   "outputs": [
    {
     "name": "stdout",
     "output_type": "stream",
     "text": [
      "1970-01-01 00:15:14\n"
     ]
    }
   ],
   "source": [
    "raw = binascii.unhexlify(fDbPayload[(9*2):(9*2)+(4*2)])\n",
    "idt = unpack('>I', raw)[0]\n",
    "basedate = datetime(1970,1,1)\n",
    "delta = timedelta(seconds=idt)\n",
    "pktdt = basedate+delta\n",
    "print(pktdt)"
   ]
  },
  {
   "cell_type": "code",
   "execution_count": 81,
   "id": "behind-corrections",
   "metadata": {},
   "outputs": [
    {
     "name": "stdout",
     "output_type": "stream",
     "text": [
      "1970-01-01 04:42:14\n"
     ]
    }
   ],
   "source": [
    "raw = binascii.unhexlify(myPayload[(9*2):(9*2)+(4*2)])\n",
    "idt = unpack('>I', raw)[0]\n",
    "basedate = datetime(1970,1,1)\n",
    "delta = timedelta(seconds=idt)\n",
    "pktdt = basedate+delta\n",
    "print(pktdt)"
   ]
  },
  {
   "cell_type": "code",
   "execution_count": 106,
   "id": "respiratory-haven",
   "metadata": {},
   "outputs": [
    {
     "data": {
      "text/plain": [
       "3.3419440000000002"
      ]
     },
     "execution_count": 106,
     "metadata": {},
     "output_type": "execute_result"
    }
   ],
   "source": [
    "pkt = \"86A2404040406098AA6E828200E103F0FFFFF000010000422600004226000884040828CD98010100006A480201000000002703010000302F039A0004034601B40368009C0401098400410501000000003B5AFC6BE85500C300EAFFDB00210055FFC4FFA3FFFC99000031F900000222000000000000000000060102560184000600\"\n",
    "#3.3v, posicion 60\n",
    "#index = pkt.find('FFFFF00001')\n",
    "payload = pkt\n",
    "\n",
    "if len(payload)%2!=0:\n",
    "    payload = payload[0:-2]\n",
    "\n",
    "\n",
    "bindata = binascii.unhexlify(payload)\n",
    "rawval = unpack(\">H\", bindata[60:62])[0]\n",
    "rawval*0.003988\n"
   ]
  },
  {
   "cell_type": "code",
   "execution_count": 105,
   "id": "about-health",
   "metadata": {},
   "outputs": [
    {
     "data": {
      "text/plain": [
       "3.337956"
      ]
     },
     "execution_count": 105,
     "metadata": {},
     "output_type": "execute_result"
    }
   ],
   "source": [
    "pkt = \"86A2404040406098AA6E828200E103F0FFFFF0000100000392000003920008B7840828CD9801010000699802010000000027030100002DCC03650003034501F80367009E04010CA4026D05010000000022E828BA22E80120FD580257FFA6007AFFE5FFD9FFFE2100001912000000D60000000000000000000601B81E04F8001601\"\n",
    "#3.3v, posicion 60\n",
    "#index = pkt.find('FFFFF00001')\n",
    "#payload = pkt[index:]\n",
    "payload = pkt\n",
    "if len(payload)%2!=0:\n",
    "    payload = payload[0:-2]\n",
    "\n",
    "\n",
    "bindata = binascii.unhexlify(payload)\n",
    "rawval = unpack(\">H\", bindata[60:62])[0]\n",
    "rawval*0.003988\n"
   ]
  },
  {
   "cell_type": "code",
   "execution_count": 183,
   "id": "muslim-burst",
   "metadata": {},
   "outputs": [],
   "source": [
    "#Datetime??\n",
    "pkt = \"86A2404040406098AA6E828200E103F0FFFFF0000100000392000003920008B7840828CD9801010000699802010000000027030100002DCC03650003034501F80367009E04010CA4026D05010000000022E828BA22E80120FD580257FFA6007AFFE5FFD9FFFE2100001912000000D60000000000000000000601B81E04F8001601\"\n",
    "#pkt = \"86A2404040406098AA6E828200E103F0FFFFF000010000422600004226000884040828CD98010100006A480201000000002703010000302F039A0004034601B40368009C0401098400410501000000003B5AFC6BE85500C300EAFFDB00210055FFC4FFA3FFFC99000031F900000222000000000000000000060102560184000600\"\n",
    "#pkt = \"86A2404040406098AA6E828200E103F0FFFFF0000100005BA300005BA30008B7840828CD98010100006878020100000000270301000330B10398000303440233036900680401118F00840501000000002A3DFAF42FD000B3FDCA023CFFBF0059FFC2FFF90003CC0000098E00FFF91F0000000000000000000601B8450514000901\"\n",
    "#3.3v, posicion 60\n",
    "index = pkt.find('FFFFF00001')\n",
    "payload = pkt[index:]\n",
    "#payload = pkt\n"
   ]
  },
  {
   "cell_type": "code",
   "execution_count": 184,
   "id": "artificial-patient",
   "metadata": {},
   "outputs": [],
   "source": [
    "#payload = pkt\n",
    "#if len(payload)%2!=0:\n",
    "#    payload = payload[0:-2]\n",
    "bindata = binascii.unhexlify(payload)\n"
   ]
  },
  {
   "cell_type": "code",
   "execution_count": 186,
   "id": "damaged-match",
   "metadata": {},
   "outputs": [
    {
     "name": "stdout",
     "output_type": "stream",
     "text": [
      "1970-07-02 19:16:15 15794175\n",
      "1970-07-14 21:28:31 16838911\n",
      "1970-01-01 18:16:16 65776\n",
      "1970-01-01 00:04:16 256\n",
      "1971-08-06 13:00:49 50331649\n",
      "2047-08-17 15:55:44 2449670144\n",
      "1970-04-21 18:03:44 9569024\n",
      "1970-01-01 10:22:59 37379\n",
      "1971-08-06 13:03:14 50331794\n",
      "2047-08-17 15:55:44 2449670144\n",
      "1970-04-21 18:03:44 9569024\n",
      "1974-04-03 21:05:07 134255107\n",
      "2067-04-23 03:29:22 3070754962\n",
      "2040-07-22 16:34:08 2226587648\n",
      "1974-07-13 02:42:16 142915336\n",
      "1991-04-14 16:35:03 671646903\n",
      "2079-01-26 10:01:40 3441952900\n",
      "2051-03-28 02:06:00 2563581960\n",
      "1970-11-07 02:00:08 26791208\n",
      "1970-07-15 09:24:29 16881869\n",
      "1970-01-01 18:19:04 65944\n",
      "1970-01-01 00:04:17 257\n",
      "2025-10-27 23:28:01 1761607681\n",
      "2051-01-11 02:48:32 2557018112\n",
      "1971-05-19 23:13:04 43542784\n",
      "1970-07-16 03:35:05 16947305\n",
      "1970-01-01 18:23:20 66200\n",
      "1970-01-01 00:04:18 258\n",
      "1970-01-01 00:00:01 1\n",
      "1970-01-01 00:00:00 0\n",
      "1990-09-26 01:10:24 654311424\n",
      "1971-09-05 02:59:12 52887552\n",
      "1970-07-16 13:43:28 16983808\n",
      "1970-01-01 18:25:43 66343\n",
      "1970-01-01 00:04:19 259\n",
      "1993-12-04 03:12:01 754974721\n",
      "2078-07-20 00:06:24 3425501184\n",
      "1972-01-08 09:55:12 63712512\n",
      "2023-09-15 03:14:53 1694747693\n",
      "1970-03-18 14:55:08 6620108\n",
      "1971-08-06 20:11:47 50357507\n",
      "1971-08-08 19:39:17 50528357\n",
      "2006-09-09 18:08:00 1157825280\n",
      "1970-09-04 12:39:31 21299971\n",
      "2101-11-07 18:52:51 4160832771\n",
      "1972-02-10 15:48:21 66584901\n",
      "2024-10-07 15:02:25 1728313345\n",
      "1970-03-20 03:20:24 6751224\n",
      "2053-12-31 20:41:39 2650826499\n",
      "1972-06-15 13:40:55 77463655\n",
      "1970-07-17 16:23:28 17079808\n",
      "1976-05-19 22:35:10 201393310\n",
      "2057-03-19 17:55:16 2752250116\n",
      "1971-05-28 19:03:29 44305409\n",
      "2027-12-15 16:53:32 1828889612\n",
      "1972-11-19 14:09:40 91030180\n",
      "1970-07-18 07:06:42 17132802\n",
      "1970-01-01 18:35:25 66925\n",
      "1970-01-01 00:04:21 261\n",
      "1970-01-01 00:00:01 1\n",
      "1970-01-01 00:00:00 0\n",
      "1988-01-29 03:29:04 570425344\n",
      "2093-05-30 17:18:56 3894542336\n",
      "1991-10-01 07:21:36 686301696\n",
      "2068-12-20 15:30:42 3123243042\n",
      "1988-06-18 08:25:12 582625512\n",
      "2093-05-31 06:33:12 3894589992\n",
      "1971-01-06 06:14:18 31990458\n",
      "1987-01-07 05:31:14 536995874\n",
      "2104-07-29 00:08:08 4246733288\n",
      "2017-04-23 21:43:29 1492983809\n",
      "1971-04-01 20:40:00 39386400\n",
      "2016-04-04 12:07:25 1459771645\n",
      "2105-10-02 02:05:12 4283892312\n",
      "2058-10-13 16:23:30 2801751810\n",
      "1970-05-07 16:05:43 10944343\n",
      "2034-11-11 13:05:03 2046863103\n",
      "2105-10-28 15:07:18 4286185638\n",
      "2092-04-11 04:09:36 3858725376\n",
      "2106-01-18 13:07:06 4293263226\n",
      "2085-11-24 07:47:11 3657426431\n",
      "2106-01-09 10:41:41 4292476901\n",
      "2105-07-27 23:25:51 4278180351\n",
      "1988-01-28 09:16:09 570359769\n",
      "1970-01-26 18:52:47 2227967\n",
      "1970-01-01 02:25:02 8702\n",
      "1983-04-17 12:27:13 419430433\n",
      "1979-08-16 05:11:28 303628288\n",
      "1970-01-14 17:27:28 1186048\n",
      "1970-01-01 01:17:13 4633\n"
     ]
    }
   ],
   "source": [
    "pos = 9\n",
    "for pos in range(90):\n",
    "    raw = bindata[pos:pos+4]\n",
    "    raw = unpack('>I', raw)[0]\n",
    "    basedate = datetime(1970,1,1)\n",
    "    delta = timedelta(seconds=raw)\n",
    "    pktdt = basedate+delta\n",
    "    print(pktdt, raw)"
   ]
  },
  {
   "cell_type": "code",
   "execution_count": null,
   "id": "pharmaceutical-surrey",
   "metadata": {},
   "outputs": [],
   "source": []
  }
 ],
 "metadata": {
  "kernelspec": {
   "display_name": "Python 3",
   "language": "python",
   "name": "python3"
  },
  "language_info": {
   "codemirror_mode": {
    "name": "ipython",
    "version": 3
   },
   "file_extension": ".py",
   "mimetype": "text/x-python",
   "name": "python",
   "nbconvert_exporter": "python",
   "pygments_lexer": "ipython3",
   "version": "3.8.5"
  }
 },
 "nbformat": 4,
 "nbformat_minor": 5
}

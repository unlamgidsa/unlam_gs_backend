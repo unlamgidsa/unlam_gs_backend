{
 "cells": [
  {
   "cell_type": "code",
   "execution_count": 1,
   "id": "rotary-trace",
   "metadata": {},
   "outputs": [
    {
     "ename": "SyntaxError",
     "evalue": "invalid syntax (<ipython-input-1-6b74b5c3e8f5>, line 6)",
     "output_type": "error",
     "traceback": [
      "\u001b[1;36m  File \u001b[1;32m\"<ipython-input-1-6b74b5c3e8f5>\"\u001b[1;36m, line \u001b[1;32m6\u001b[0m\n\u001b[1;33m    from scipy-stats import multivariate_normal\u001b[0m\n\u001b[1;37m              ^\u001b[0m\n\u001b[1;31mSyntaxError\u001b[0m\u001b[1;31m:\u001b[0m invalid syntax\n"
     ]
    }
   ],
   "source": [
    "import matplotlib.pyplot as plt\n",
    "import numpy as np\n",
    "%matplotlib inline\n",
    "\n",
    "from numpy import genfromtxt\n",
    "from scipy.stats import multivariate_normal\n",
    "from sklearn.metrics import f1_score"
   ]
  },
  {
   "cell_type": "code",
   "execution_count": null,
   "id": "cosmetic-summary",
   "metadata": {},
   "outputs": [],
   "source": [
    "def deleteOutlier(df, field):\n",
    "    Q1 = np.percentile(df[field], 25, interpolation = 'midpoint')  \n",
    "    Q2 = np.percentile(df[field], 50, interpolation = 'midpoint')  \n",
    "    Q3 = np.percentile(df[field], 75, interpolation = 'midpoint')  \n",
    "    IQR = Q3 - Q1  \n",
    "    #print('Interquartile range is', IQR) \n",
    "    low_lim = Q1 - 1.5 * IQR \n",
    "    up_lim = Q3 + 1.5 * IQR \n",
    "    #print('low_limit is', low_lim) \n",
    "    #print('up_limit is', up_lim) \n",
    "    #Si los limites son distintos darle gas\n",
    "    if low_lim!=up_lim:\n",
    "        #df = df[(df['closing_price'] >= 99) & (df['closing_price'] <= 101)]\n",
    "        #df = df[df['closing_price'].between(99, 101)]\n",
    "        df = df[df[field].between(low_lim, up_lim)]\n",
    "    \n",
    "    return df"
   ]
  },
  {
   "cell_type": "code",
   "execution_count": null,
   "id": "exciting-boxing",
   "metadata": {},
   "outputs": [],
   "source": [
    "df = pd.read_csv(\"tita.csv\")\n",
    "df['tstamp'] = pd.to_datetime(df['tstamp'])\n",
    "df = df[df['tstamp'].astype('datetime64[ns]')>datetime(2020, 1, 1, 0, 0, 0)]\n",
    "df = df[df['tstamp'].astype('datetime64[ns]')<datetime(2021, 3, 16, 0, 0, 0)]\n",
    "varnames = [\"CPU_C\", \n",
    "            #\"mirror_cell_C\", \n",
    "            \"temp_imo_c\", \n",
    "            \"nice_battery\", \n",
    "            \"pcm_3v3_v\",\n",
    "            \"pcm_3v3_a\",\n",
    "            \"pcm_5v_v\",\n",
    "            \"pcm_5v_a\",\n",
    "            \"sunvectorX\",\n",
    "            \"sunvectorY\",\n",
    "            \"sunvectorZ\",\n",
    "            'inEclipse',\n",
    "            'elapsedTime',\n",
    "            \n",
    "            ]"
   ]
  },
  {
   "cell_type": "code",
   "execution_count": null,
   "id": "binary-memphis",
   "metadata": {},
   "outputs": [],
   "source": [
    "#limpio outliers\n",
    "print(\"Rows before outlier filter \", len(df.index));\n",
    "for c in varnames:\n",
    "  df = deleteOutlier(df, c)\n",
    "print(\"Rows after outlier filter \", len(df.index));"
   ]
  }
 ],
 "metadata": {
  "kernelspec": {
   "display_name": "Python 3",
   "language": "python",
   "name": "python3"
  },
  "language_info": {
   "codemirror_mode": {
    "name": "ipython",
    "version": 3
   },
   "file_extension": ".py",
   "mimetype": "text/x-python",
   "name": "python",
   "nbconvert_exporter": "python",
   "pygments_lexer": "ipython3",
   "version": "3.8.5"
  }
 },
 "nbformat": 4,
 "nbformat_minor": 5
}

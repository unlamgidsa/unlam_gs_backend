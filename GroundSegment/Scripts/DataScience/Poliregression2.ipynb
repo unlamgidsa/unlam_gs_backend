{
 "cells": [
  {
   "cell_type": "code",
   "execution_count": 1,
   "id": "prerequisite-judge",
   "metadata": {},
   "outputs": [
    {
     "name": "stdout",
     "output_type": "stream",
     "text": [
      "Rows before outlier filter  62058\n",
      "Rows after outlier filter  49451\n"
     ]
    }
   ],
   "source": [
    "from random import random\n",
    "import pandas as pd\n",
    "import numpy as np\n",
    "import warnings\n",
    "import matplotlib.pyplot as plt\n",
    "from matplotlib.pyplot import figure\n",
    "from sklearn.decomposition import PCA\n",
    "from sklearn.preprocessing import StandardScaler\n",
    "from sklearn.linear_model import LinearRegression\n",
    "from sklearn.preprocessing import PolynomialFeatures\n",
    "import seaborn as sn\n",
    "import ppscore as pps\n",
    "from datetime import datetime\n",
    "from scipy.interpolate import *\n",
    "import mpld3\n",
    "def deleteOutlier(df, field):\n",
    "    Q1 = np.percentile(df[field], 25, interpolation = 'midpoint')  \n",
    "    Q2 = np.percentile(df[field], 50, interpolation = 'midpoint')  \n",
    "    Q3 = np.percentile(df[field], 75, interpolation = 'midpoint')  \n",
    "    IQR = Q3 - Q1  \n",
    "    #print('Interquartile range is', IQR) \n",
    "    low_lim = Q1 - 1.5 * IQR \n",
    "    up_lim = Q3 + 1.5 * IQR \n",
    "    #print('low_limit is', low_lim) \n",
    "    #print('up_limit is', up_lim) \n",
    "    #Si los limites son distintos darle gas\n",
    "    if low_lim!=up_lim:\n",
    "        #df = df[(df['closing_price'] >= 99) & (df['closing_price'] <= 101)]\n",
    "        #df = df[df['closing_price'].between(99, 101)]\n",
    "        df = df[df[field].between(low_lim, up_lim)]\n",
    "    \n",
    "    return df\n",
    "df = pd.read_csv(\"tita.csv\")\n",
    "#agrego tiempos\n",
    "df['tstamp'] = pd.to_datetime(df['tstamp'])\n",
    "df = df[df['tstamp'].astype('datetime64[ns]')>datetime(2020, 1, 1, 0, 0, 0)]\n",
    "df = df[df['tstamp'].astype('datetime64[ns]')<datetime(2021, 3, 16, 0, 0, 0)]\n",
    "varnames = [\"CPU_C\", \n",
    "            #\"mirror_cell_C\", \n",
    "            \"temp_imo_c\", \n",
    "            \"nice_battery\", \n",
    "            \"pcm_3v3_v\",\n",
    "            \"pcm_3v3_a\",\n",
    "            \"pcm_5v_v\",\n",
    "            \"pcm_5v_a\",\n",
    "            \"sunvectorX\",\n",
    "            \"sunvectorY\",\n",
    "            \"sunvectorZ\",\n",
    "            'inEclipse',\n",
    "            'elapsedTime',\n",
    "            \n",
    "            ]\n",
    "#limpio outliers\n",
    "print(\"Rows before outlier filter \", len(df.index));\n",
    "for c in varnames:\n",
    "  df = deleteOutlier(df, c)\n",
    "print(\"Rows after outlier filter \", len(df.index));\n"
   ]
  },
  {
   "cell_type": "code",
   "execution_count": null,
   "id": "animal-boundary",
   "metadata": {},
   "outputs": [],
   "source": [
    "X = df['temp_imo_c']\n",
    "Y = df['nice_battery']\n",
    "#Z es el valor predicho\n",
    "Z = df['CPU_C'] "
   ]
  }
 ],
 "metadata": {
  "kernelspec": {
   "display_name": "Python 3",
   "language": "python",
   "name": "python3"
  },
  "language_info": {
   "codemirror_mode": {
    "name": "ipython",
    "version": 3
   },
   "file_extension": ".py",
   "mimetype": "text/x-python",
   "name": "python",
   "nbconvert_exporter": "python",
   "pygments_lexer": "ipython3",
   "version": "3.8.5"
  }
 },
 "nbformat": 4,
 "nbformat_minor": 5
}

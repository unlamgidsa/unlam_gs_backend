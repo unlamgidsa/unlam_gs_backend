{
 "cells": [
  {
   "cell_type": "code",
   "execution_count": 1,
   "id": "corrected-steam",
   "metadata": {},
   "outputs": [],
   "source": [
    "\n",
    "#%matplotlib inline\n",
    "from random import random\n",
    "import pandas as pd\n",
    "import numpy as np\n",
    "import warnings\n",
    "import matplotlib.pyplot as plt\n",
    "from matplotlib.pyplot import figure\n",
    "from sklearn.decomposition import PCA\n",
    "from sklearn.preprocessing import StandardScaler\n",
    "from sklearn.linear_model import LinearRegression\n",
    "from sklearn.preprocessing import PolynomialFeatures\n",
    "import seaborn as sn\n",
    "import ppscore as pps\n",
    "from datetime import datetime\n",
    "from scipy.interpolate import *\n",
    "import mpld3\n",
    "%matplotlib inline\n",
    "#%matplotlib notebook"
   ]
  },
  {
   "cell_type": "code",
   "execution_count": 2,
   "id": "respiratory-pakistan",
   "metadata": {},
   "outputs": [],
   "source": [
    "def deleteOutlier(df, field):\n",
    "    Q1 = np.percentile(df[field], 25, interpolation = 'midpoint')  \n",
    "    Q2 = np.percentile(df[field], 50, interpolation = 'midpoint')  \n",
    "    Q3 = np.percentile(df[field], 75, interpolation = 'midpoint')  \n",
    "    IQR = Q3 - Q1  \n",
    "    #print('Interquartile range is', IQR) \n",
    "    low_lim = Q1 - 1.5 * IQR \n",
    "    up_lim = Q3 + 1.5 * IQR \n",
    "    #print('low_limit is', low_lim) \n",
    "    #print('up_limit is', up_lim) \n",
    "    #Si los limites son distintos darle gas\n",
    "    if low_lim!=up_lim:\n",
    "        #df = df[(df['closing_price'] >= 99) & (df['closing_price'] <= 101)]\n",
    "        #df = df[df['closing_price'].between(99, 101)]\n",
    "        df = df[df[field].between(low_lim, up_lim)]\n",
    "    \n",
    "    return df"
   ]
  },
  {
   "cell_type": "code",
   "execution_count": 3,
   "id": "homeless-touch",
   "metadata": {},
   "outputs": [],
   "source": [
    "#mpld3.enable_notebook()\n",
    "df = pd.read_csv(\"tita.csv\")"
   ]
  },
  {
   "cell_type": "code",
   "execution_count": 4,
   "id": "rational-manhattan",
   "metadata": {},
   "outputs": [],
   "source": [
    "#agrego tiempos\n",
    "df['tstamp'] = pd.to_datetime(df['tstamp'])\n",
    "df = df[df['tstamp'].astype('datetime64[ns]')>datetime(2020, 1, 1, 0, 0, 0)]\n",
    "df = df[df['tstamp'].astype('datetime64[ns]')<datetime(2021, 3, 16, 0, 0, 0)]"
   ]
  },
  {
   "cell_type": "code",
   "execution_count": 5,
   "id": "necessary-absence",
   "metadata": {},
   "outputs": [],
   "source": [
    "varnames = [\"CPU_C\", \n",
    "            #\"mirror_cell_C\", \n",
    "            \"temp_imo_c\", \n",
    "            \"nice_battery\", \n",
    "            \"pcm_3v3_v\",\n",
    "            \"pcm_3v3_a\",\n",
    "            \"pcm_5v_v\",\n",
    "            \"pcm_5v_a\",\n",
    "            \"sunvectorX\",\n",
    "            \"sunvectorY\",\n",
    "            \"sunvectorZ\",\n",
    "            'inEclipse',\n",
    "            'elapsedTime',\n",
    "            \n",
    "            ]"
   ]
  },
  {
   "cell_type": "code",
   "execution_count": 6,
   "id": "moving-angel",
   "metadata": {},
   "outputs": [
    {
     "name": "stdout",
     "output_type": "stream",
     "text": [
      "Rows before outlier filter  62058\n",
      "Rows after outlier filter  49451\n"
     ]
    }
   ],
   "source": [
    "#limpio outliers\n",
    "print(\"Rows before outlier filter \", len(df.index));\n",
    "for c in varnames:\n",
    "  df = deleteOutlier(df, c)\n",
    "print(\"Rows after outlier filter \", len(df.index));"
   ]
  },
  {
   "cell_type": "code",
   "execution_count": 7,
   "id": "educated-philosophy",
   "metadata": {},
   "outputs": [],
   "source": [
    "X = df[['temp_imo_c', 'nice_battery']]\n",
    "y = df['CPU_C']"
   ]
  },
  {
   "cell_type": "code",
   "execution_count": 8,
   "id": "demographic-extension",
   "metadata": {},
   "outputs": [
    {
     "data": {
      "application/vnd.jupyter.widget-view+json": {
       "model_id": "efb16d5f97a748aeaaf5bfcafa505537",
       "version_major": 2,
       "version_minor": 0
      },
      "text/plain": [
       "Canvas(toolbar=Toolbar(toolitems=[('Home', 'Reset original view', 'home', 'home'), ('Back', 'Back to previous …"
      ]
     },
     "metadata": {},
     "output_type": "display_data"
    }
   ],
   "source": [
    "%matplotlib widget\n",
    "#plt.figure(figsize=(24,16), dpi= 100, facecolor='w', edgecolor='k')\n",
    "fig = plt.figure(figsize=(12,8))\n",
    "#fig.canvas.toolbar_visible = False\n",
    "#fig.canvas.header_visible = False\n",
    "#fig.canvas.resizable = True\n",
    "ax = fig.add_subplot(projection='3d')\n",
    "\n",
    "ax.scatter(X['temp_imo_c'], X['nice_battery'], y, marker='o')\n",
    "ax.set_xlabel('temp_imo_c')\n",
    "ax.set_ylabel('nice_battery')\n",
    "ax.set_zlabel('CPU_C')\n",
    "\n",
    "plt.show()"
   ]
  },
  {
   "cell_type": "code",
   "execution_count": 9,
   "id": "accepted-hypothesis",
   "metadata": {},
   "outputs": [],
   "source": [
    "#Se escalan las columnas de X\n",
    "from sklearn.preprocessing import StandardScaler\n",
    "scale = StandardScaler()\n",
    "X_scaled = scale.fit_transform(X)\n",
    "#p1 = np.polyfit(x, y,1)\n",
    "#p2 = np.polyfit(x,y,2)\n",
    "#p3 = np.polyfit(x,y,3)"
   ]
  },
  {
   "cell_type": "code",
   "execution_count": 10,
   "id": "innocent-mining",
   "metadata": {},
   "outputs": [],
   "source": [
    "from sklearn.model_selection import train_test_split\n",
    "X_train, X_test, Y_train, Y_test = train_test_split(X_scaled, y, test_size=.2, random_state=0)"
   ]
  },
  {
   "cell_type": "code",
   "execution_count": 11,
   "id": "transsexual-honduras",
   "metadata": {},
   "outputs": [
    {
     "data": {
      "text/plain": [
       "PolynomialFeatures()"
      ]
     },
     "execution_count": 11,
     "metadata": {},
     "output_type": "execute_result"
    }
   ],
   "source": [
    "from sklearn.preprocessing import PolynomialFeatures\n",
    "poly = PolynomialFeatures(degree=2)\n",
    "#realiza alguna transformacion del dataset\n",
    "x_poly = poly.fit_transform(X_train)\n",
    "poly.fit(X_train, Y_train)"
   ]
  },
  {
   "cell_type": "code",
   "execution_count": 12,
   "id": "excellent-lucas",
   "metadata": {},
   "outputs": [
    {
     "data": {
      "text/plain": [
       "LinearRegression()"
      ]
     },
     "execution_count": 12,
     "metadata": {},
     "output_type": "execute_result"
    }
   ],
   "source": [
    "from sklearn.linear_model import LinearRegression\n",
    "model = LinearRegression()\n",
    "model.fit(x_poly, Y_train)"
   ]
  },
  {
   "cell_type": "code",
   "execution_count": 13,
   "id": "acceptable-framework",
   "metadata": {},
   "outputs": [],
   "source": [
    "y_pred = model.predict(poly.fit_transform(X_test))"
   ]
  },
  {
   "cell_type": "code",
   "execution_count": 14,
   "id": "automotive-lawsuit",
   "metadata": {},
   "outputs": [
    {
     "name": "stdout",
     "output_type": "stream",
     "text": [
      "0.8927203439061184\n"
     ]
    }
   ],
   "source": [
    "print(model.score(x_poly, Y_train))"
   ]
  },
  {
   "cell_type": "code",
   "execution_count": 15,
   "id": "disciplinary-philosophy",
   "metadata": {},
   "outputs": [
    {
     "data": {
      "text/plain": [
       "array([[ 0.39774771, -0.0266929 ],\n",
       "       [-0.28395637, -0.25752909],\n",
       "       [ 0.83155939,  1.013311  ],\n",
       "       ...,\n",
       "       [ 0.89353249,  0.9090624 ],\n",
       "       [ 0.21182841, -0.94507344],\n",
       "       [-0.43888912,  1.14734492]])"
      ]
     },
     "execution_count": 15,
     "metadata": {},
     "output_type": "execute_result"
    }
   ],
   "source": [
    "X_test"
   ]
  },
  {
   "cell_type": "code",
   "execution_count": 16,
   "id": "loving-flexibility",
   "metadata": {},
   "outputs": [
    {
     "data": {
      "application/vnd.jupyter.widget-view+json": {
       "model_id": "1c081efc166c47399ead0d774ea1f04e",
       "version_major": 2,
       "version_minor": 0
      },
      "text/plain": [
       "Canvas(toolbar=Toolbar(toolitems=[('Home', 'Reset original view', 'home', 'home'), ('Back', 'Back to previous …"
      ]
     },
     "metadata": {},
     "output_type": "display_data"
    },
    {
     "ename": "IndexError",
     "evalue": "only integers, slices (`:`), ellipsis (`...`), numpy.newaxis (`None`) and integer or boolean arrays are valid indices",
     "output_type": "error",
     "traceback": [
      "\u001b[1;31m---------------------------------------------------------------------------\u001b[0m",
      "\u001b[1;31mIndexError\u001b[0m                                Traceback (most recent call last)",
      "\u001b[1;32m<ipython-input-16-31d901dae7c6>\u001b[0m in \u001b[0;36m<module>\u001b[1;34m\u001b[0m\n\u001b[0;32m      1\u001b[0m \u001b[0mfig\u001b[0m \u001b[1;33m=\u001b[0m \u001b[0mplt\u001b[0m\u001b[1;33m.\u001b[0m\u001b[0mfigure\u001b[0m\u001b[1;33m(\u001b[0m\u001b[0mfigsize\u001b[0m\u001b[1;33m=\u001b[0m\u001b[1;33m(\u001b[0m\u001b[1;36m16\u001b[0m\u001b[1;33m,\u001b[0m \u001b[1;36m6\u001b[0m\u001b[1;33m)\u001b[0m\u001b[1;33m)\u001b[0m\u001b[1;33m\u001b[0m\u001b[1;33m\u001b[0m\u001b[0m\n\u001b[0;32m      2\u001b[0m \u001b[0max1\u001b[0m \u001b[1;33m=\u001b[0m \u001b[0mfig\u001b[0m\u001b[1;33m.\u001b[0m\u001b[0madd_subplot\u001b[0m\u001b[1;33m(\u001b[0m\u001b[1;36m121\u001b[0m\u001b[1;33m,\u001b[0m \u001b[0mprojection\u001b[0m\u001b[1;33m=\u001b[0m\u001b[1;34m'3d'\u001b[0m\u001b[1;33m)\u001b[0m\u001b[1;33m\u001b[0m\u001b[1;33m\u001b[0m\u001b[0m\n\u001b[1;32m----> 3\u001b[1;33m surf = ax1.plot_surface(X_test['temp_imo_c'], X_test['nice_battery'], X_test.reshape(X.shape), \n\u001b[0m\u001b[0;32m      4\u001b[0m                         rstride=1, cstride=1, cmap=cm.jet, alpha=0.5)\n",
      "\u001b[1;31mIndexError\u001b[0m: only integers, slices (`:`), ellipsis (`...`), numpy.newaxis (`None`) and integer or boolean arrays are valid indices"
     ]
    }
   ],
   "source": [
    "\n",
    "fig = plt.figure(figsize=(16, 6))\n",
    "ax1 = fig.add_subplot(121, projection='3d')\n",
    "surf = ax1.plot_surface(X_test['temp_imo_c'], X_test['nice_battery'], X_test.reshape(X.shape), \n",
    "                        rstride=1, cstride=1, cmap=cm.jet, alpha=0.5)\n"
   ]
  },
  {
   "cell_type": "code",
   "execution_count": null,
   "id": "capable-mills",
   "metadata": {},
   "outputs": [],
   "source": []
  },
  {
   "cell_type": "code",
   "execution_count": null,
   "id": "competent-cornwall",
   "metadata": {},
   "outputs": [],
   "source": []
  }
 ],
 "metadata": {
  "kernelspec": {
   "display_name": "Python 3",
   "language": "python",
   "name": "python3"
  },
  "language_info": {
   "codemirror_mode": {
    "name": "ipython",
    "version": 3
   },
   "file_extension": ".py",
   "mimetype": "text/x-python",
   "name": "python",
   "nbconvert_exporter": "python",
   "pygments_lexer": "ipython3",
   "version": "3.8.5"
  }
 },
 "nbformat": 4,
 "nbformat_minor": 5
}
